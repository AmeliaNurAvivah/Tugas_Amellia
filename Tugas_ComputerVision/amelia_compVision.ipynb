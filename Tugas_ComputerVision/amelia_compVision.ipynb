{
 "cells": [
  {
   "cell_type": "code",
   "execution_count": 1,
   "id": "f98b7ed9-81af-4719-9ee8-2f7a795cf232",
   "metadata": {},
   "outputs": [],
   "source": [
    "import pandas as pd\n",
    "import numpy as np\n",
    "\n",
    "import os\n",
    "from pathlib import Path\n",
    "\n",
    "import cv2"
   ]
  },
  {
   "cell_type": "code",
   "execution_count": 2,
   "id": "f3d3bcab-2276-4768-8e83-1c9ad2f001e3",
   "metadata": {},
   "outputs": [],
   "source": [
    "# Muat citra\n",
    "img = cv2.imread('amelia.jpg')\n",
    "\n",
    "# Buat blur dengan ukuran kernel 25x25\n",
    "blur_img = cv2.blur(img, (25, 25))\n",
    "\n",
    "# Atur ukuran hasil gambar\n",
    "ukuran_lebar = 800\n",
    "ukuran_tinggi = 900\n",
    "blur_img = cv2.resize(blur_img, (ukuran_lebar, ukuran_tinggi))\n",
    "\n",
    "# Tampilkan hasil\n",
    "cv2.imwrite(\"gambar Blur .jpg\", blur_img)\n",
    "cv2.imshow('gambar Blur', blur_img)\n",
    "cv2.waitKey(0)\n",
    "cv2.destroyAllWindows()"
   ]
  },
  {
   "cell_type": "code",
   "execution_count": 3,
   "id": "462236d9-e44c-47e5-9184-e7fa791a522d",
   "metadata": {},
   "outputs": [],
   "source": [
    "# Muat citra\n",
    "img = cv2.imread('amelia.jpg')\n",
    "\n",
    "# Buat Gaussian Blur dengan ukuran kernel 25x25 dan sigma 0\n",
    "gaussian_blur_img = cv2.GaussianBlur(img, (25, 25), 0)\n",
    "\n",
    "# Atur ukuran hasil gambar\n",
    "ukuran_lebar = 800\n",
    "ukuran_tinggi = 900\n",
    "gaussian_blur_img = cv2.resize(gaussian_blur_img, (ukuran_lebar, ukuran_tinggi))\n",
    "\n",
    "# Tampilkan hasil\n",
    "cv2.imwrite(\"Gambar Gaussian Blur.jpg\", gaussian_blur_img)\n",
    "cv2.imshow('Gambar Gaussian Blur', gaussian_blur_img)\n",
    "cv2.waitKey(0)\n",
    "cv2.destroyAllWindows()"
   ]
  },
  {
   "cell_type": "code",
   "execution_count": 4,
   "id": "637f1df8-24e5-4dbc-b747-64db038965fd",
   "metadata": {},
   "outputs": [],
   "source": [
    "# Muat citra\n",
    "img = cv2.imread('amelia.jpg')\n",
    "\n",
    "# Buat kernel sharpening\n",
    "kernel = np.array([[-1, -1, -1],\n",
    "                   [-1, 9, -1],\n",
    "                   [-1, -1, -1]])\n",
    "\n",
    "# Buat sharpening\n",
    "sharpening_img = cv2.filter2D(img, -1, kernel)\n",
    "\n",
    "# Atur ukuran hasil gambar\n",
    "ukuran_lebar = 800\n",
    "ukuran_tinggi = 900\n",
    "sharpening_img = cv2.resize(sharpening_img, (ukuran_lebar, ukuran_tinggi))\n",
    "\n",
    "# Tampilkan hasil\n",
    "cv2.imwrite(\"Gambar Sharpening.jpg\", sharpening_img)\n",
    "cv2.imshow('Gambar Sharpening', sharpening_img)\n",
    "cv2.waitKey(0)\n",
    "cv2.destroyAllWindows()"
   ]
  },
  {
   "cell_type": "code",
   "execution_count": 5,
   "id": "a9184360-d066-4e3a-85d6-3c746b2cf1af",
   "metadata": {},
   "outputs": [],
   "source": [
    "# Muat citra\n",
    "img = cv2.imread('amelia.jpg')\n",
    "\n",
    "# Buat edge detection menggunakan Canny\n",
    "edges = cv2.Canny(img, 100, 200)\n",
    "\n",
    "# Atur ukuran hasil gambar\n",
    "ukuran_lebar = 800\n",
    "ukuran_tinggi = 900\n",
    "edges = cv2.resize(edges, (ukuran_lebar, ukuran_tinggi))\n",
    "\n",
    "# Tampilkan hasil\n",
    "cv2.imwrite(\"Gambar Edge Detection.jpg\", edges)\n",
    "cv2.imshow('Gambar Edge Detection', edges)\n",
    "cv2.waitKey(0)\n",
    "cv2.destroyAllWindows()"
   ]
  },
  {
   "cell_type": "code",
   "execution_count": null,
   "id": "6d9faa09-be21-4340-a3ac-af09fde50bbf",
   "metadata": {},
   "outputs": [],
   "source": []
  },
  {
   "cell_type": "code",
   "execution_count": null,
   "id": "9b69840f-8034-4391-a7b3-9ae8141d9b06",
   "metadata": {},
   "outputs": [],
   "source": []
  }
 ],
 "metadata": {
  "kernelspec": {
   "display_name": "Python 3 (ipykernel)",
   "language": "python",
   "name": "python3"
  },
  "language_info": {
   "codemirror_mode": {
    "name": "ipython",
    "version": 3
   },
   "file_extension": ".py",
   "mimetype": "text/x-python",
   "name": "python",
   "nbconvert_exporter": "python",
   "pygments_lexer": "ipython3",
   "version": "3.10.11"
  }
 },
 "nbformat": 4,
 "nbformat_minor": 5
}
